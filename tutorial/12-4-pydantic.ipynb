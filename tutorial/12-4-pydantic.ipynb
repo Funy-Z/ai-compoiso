{
 "cells": [
  {
   "cell_type": "markdown",
   "id": "bb551844-209e-4cf5-8384-2a2b070e5279",
   "metadata": {},
   "source": [
    "# 1. BaseModel\n",
    "\n",
    "数据校验的基类"
   ]
  },
  {
   "cell_type": "code",
   "execution_count": 3,
   "id": "9bf4f3d6-cc3d-4b40-9679-3e096e104fc0",
   "metadata": {},
   "outputs": [],
   "source": [
    "from dataclasses import dataclass\n",
    "from pydantic import BaseModel\n",
    "\n",
    "# @dataclass\n",
    "class Person(BaseModel):\n",
    "    # id: str = \n",
    "    name: str = None\n",
    "    age: int = 18\n"
   ]
  },
  {
   "cell_type": "code",
   "execution_count": 4,
   "id": "16d39665-1cd1-4f3c-8250-d777df7d1019",
   "metadata": {},
   "outputs": [
    {
     "data": {
      "text/plain": [
       "Person(name='xiaoming', age=44)"
      ]
     },
     "execution_count": 4,
     "metadata": {},
     "output_type": "execute_result"
    }
   ],
   "source": [
    "person_01 = Person(name=\"xiaoming\", age=44)\n",
    "person_01"
   ]
  },
  {
   "cell_type": "markdown",
   "id": "4c862f32-1a36-4bec-868a-0153b477b94a",
   "metadata": {},
   "source": [
    "# 2. Field\n",
    "\n",
    "用于为类型添加更多限制。\n",
    "\n",
    "1. 默认值、默认值工厂(default_factory)\n",
    "2. 别名alias\n",
    "3. 数据类型的校验: gt/lt/ge/le\n",
    "4. 字符串类型的校验: min_length / max_length / pattern"
   ]
  },
  {
   "cell_type": "code",
   "execution_count": 63,
   "id": "4d555b25-4cfd-4a8c-ba6d-e6144b0de033",
   "metadata": {},
   "outputs": [],
   "source": [
    "from dataclasses import dataclass\n",
    "from pydantic import BaseModel, Field\n",
    "\n",
    "# @dataclass\n",
    "class Person(BaseModel):\n",
    "    id: str = Field(default_factory=lambda : uuid4().hex)\n",
    "    name: str = Field(..., alias=\"username\", min_length=2, max_length=100,pattern=r'^AI_.*')\n",
    "    age: int = Field(default=18, gt=0, le=150)\n"
   ]
  },
  {
   "cell_type": "code",
   "execution_count": 66,
   "id": "56c9016b-3983-43dc-8034-063c701065e8",
   "metadata": {},
   "outputs": [
    {
     "data": {
      "text/plain": [
       "Person(id='510c7838765a4c499f23934085fae974', name='AI_小明', age=50)"
      ]
     },
     "execution_count": 66,
     "metadata": {},
     "output_type": "execute_result"
    }
   ],
   "source": [
    "p_01 = Person(username=\"AI_小明\", age=50)\n",
    "p_01"
   ]
  },
  {
   "cell_type": "code",
   "execution_count": 65,
   "id": "d4c7adb9-200f-4759-985b-5d9653769d2b",
   "metadata": {},
   "outputs": [
    {
     "data": {
      "text/plain": [
       "True"
      ]
     },
     "execution_count": 65,
     "metadata": {},
     "output_type": "execute_result"
    }
   ],
   "source": [
    "# Ellipsis: 单例对象 ... 等同"
   ]
  },
  {
   "cell_type": "markdown",
   "id": "f45db3e5-68c0-48f0-bb9c-9367d0e676a9",
   "metadata": {},
   "source": [
    "# 3. 序列化和反序列化\n",
    "\n",
    "序列化：将一个实例转换成字典或者是json字符串。\n",
    "- model_dump() : 将一个实例对象转换成字典。\n",
    "- model_dump_json()：将一个实例对象转换成json字符串\n",
    "- dict(): 将一个实例对象转换成字典。\n",
    "\n",
    "反列化的方法：将字典/json字符串转换成实例。\n",
    "- model_validate_json(\"json字符串\") \n",
    "- model_validate()json数据"
   ]
  },
  {
   "cell_type": "code",
   "execution_count": 85,
   "id": "d1faadd9-6c5f-4d41-b7d3-568fb917e588",
   "metadata": {},
   "outputs": [
    {
     "name": "stdout",
     "output_type": "stream",
     "text": [
      "<class 'str'> {\"id\":\"897dc517cbd94848bae259b8f3ca066c\",\"name\":\"AI_小明\",\"age\":40}\n"
     ]
    }
   ],
   "source": [
    "person_01 = Person(username=\"AI_小明\", age=40)\n",
    "person_dict_01 = person_01.model_dump_json()\n",
    "print(type(person_dict_01), person_dict_01)"
   ]
  },
  {
   "cell_type": "code",
   "execution_count": 87,
   "id": "e9a3db7d-db8b-441d-9168-9c0b831dcdf8",
   "metadata": {},
   "outputs": [
    {
     "data": {
      "text/plain": [
       "Person(id='897dc517cbd94848bae259b8f3ca066c', name='AI_小明', age=40)"
      ]
     },
     "execution_count": 87,
     "metadata": {},
     "output_type": "execute_result"
    }
   ],
   "source": [
    "person_02 = Person.model_validate_json('{\"id\":\"897dc517cbd94848bae259b8f3ca066c\",\"username\":\"AI_小明\",\"age\":40}')\n",
    "person_02"
   ]
  },
  {
   "cell_type": "code",
   "execution_count": 88,
   "id": "a0268af7-fa6a-4d78-8fce-e17483222955",
   "metadata": {},
   "outputs": [
    {
     "data": {
      "text/plain": [
       "Person(id='897dc517cbd94848bae259b8f3ca066c', name='AI_小明', age=40)"
      ]
     },
     "execution_count": 88,
     "metadata": {},
     "output_type": "execute_result"
    }
   ],
   "source": [
    "person_02 = Person.model_validate({\"id\":\"897dc517cbd94848bae259b8f3ca066c\",\"username\":\"AI_小明\",\"age\":40})\n",
    "person_02"
   ]
  },
  {
   "cell_type": "markdown",
   "id": "19ae0cad-f8c9-462b-a5ba-3e99d9cc8d08",
   "metadata": {},
   "source": [
    "# 4. 对方法进行校验\n",
    "\n",
    "@validate_call - 装饰器\n"
   ]
  },
  {
   "cell_type": "code",
   "execution_count": 92,
   "id": "4c6ba9d9-e797-4b32-8ff1-4563a6f21aa2",
   "metadata": {},
   "outputs": [
    {
     "name": "stdout",
     "output_type": "stream",
     "text": [
      "Hello 大小寒\n"
     ]
    }
   ],
   "source": [
    "from pydantic import validate_call\n",
    "\n",
    "@validate_call\n",
    "def say_hello(name: str):\n",
    "    print(f\"Hello {name}\")\n",
    "\n",
    "say_hello(name=\"大小寒\")"
   ]
  },
  {
   "cell_type": "code",
   "execution_count": 106,
   "id": "c3e00740-2c57-4b2a-aa95-60c5cc725682",
   "metadata": {},
   "outputs": [],
   "source": [
    "from enum import Enum\n",
    "\n",
    "class OpTypeEnum(Enum):\n",
    "    polish = \"polish\"\n",
    "    continue_writing = \"continue_writing\"\n",
    "    shorten = \"shorten\"\n",
    "    expand = \"expand\""
   ]
  },
  {
   "cell_type": "code",
   "execution_count": 107,
   "id": "1dcbdd2b-9600-4865-9af3-7e9373cd0f09",
   "metadata": {},
   "outputs": [
    {
     "name": "stdout",
     "output_type": "stream",
     "text": [
      "OpTypeEnum.expand\n"
     ]
    }
   ],
   "source": [
    "print(OpTypeEnum.expand)"
   ]
  },
  {
   "cell_type": "code",
   "execution_count": null,
   "id": "4b1636dd-7d7e-4680-9582-105cfce30f6a",
   "metadata": {},
   "outputs": [],
   "source": []
  }
 ],
 "metadata": {
  "kernelspec": {
   "display_name": "Python 3 (ipykernel)",
   "language": "python",
   "name": "python3"
  },
  "language_info": {
   "codemirror_mode": {
    "name": "ipython",
    "version": 3
   },
   "file_extension": ".py",
   "mimetype": "text/x-python",
   "name": "python",
   "nbconvert_exporter": "python",
   "pygments_lexer": "ipython3",
   "version": "3.12.3"
  }
 },
 "nbformat": 4,
 "nbformat_minor": 5
}
