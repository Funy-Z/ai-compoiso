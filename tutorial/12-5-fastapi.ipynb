{
 "cells": [
  {
   "cell_type": "markdown",
   "id": "a1e7031c-3689-4c9c-930e-2495d4855d37",
   "metadata": {
    "jp-MarkdownHeadingCollapsed": true
   },
   "source": [
    "# 0、请求方法"
   ]
  },
  {
   "cell_type": "markdown",
   "id": "5d3797db-764a-43d5-b16f-e70b99c6c0aa",
   "metadata": {
    "jp-MarkdownHeadingCollapsed": true
   },
   "source": [
    "## 0-1\n",
    "\n",
    "- GET: 请求数据\n",
    "- POST: 提交数据\n",
    "- PUT: 更新数据\n",
    "- DELETE: 删除数据\n",
    "- HEAD: 与GET类似，但是服务器只返回头部信息，不返回响应体。\n",
    "- OPTIONS: 查看对应API支持哪些通信选项。\n",
    "- PATCH: 用于对资源进行部分更新；PUT用于更新整个资源信息。\n",
    "- TRACE: 用于回显服务器收到的请求，主要用于诊断和调试。"
   ]
  },
  {
   "cell_type": "markdown",
   "id": "78c46b36-f491-4431-8d95-ef0764b68090",
   "metadata": {},
   "source": [
    "# 1、 路径参数\n",
    "\n",
    "API中动态的部分信息"
   ]
  },
  {
   "cell_type": "markdown",
   "id": "68d10436-dcda-4c2b-85af-30e43e2f7da3",
   "metadata": {},
   "source": [
    "\n",
    "- （1）路径参数的定义\n",
    "\n",
    "- （2）使用Path()定义路径参数\n",
    "\n",
    "  - title\n",
    "  - description\n",
    "  - 字符串校验：min_length / max_length / pattern\n",
    "  - 数值校验：gt / lt / ge / le\n",
    "  \n",
    "- （3）使用Annotated\n",
    "\n",
    "- （4）使用枚举"
   ]
  },
  {
   "cell_type": "markdown",
   "id": "6fb531d9-599e-4b91-927f-c1a1b1be0670",
   "metadata": {},
   "source": [
    "# 2、请求参数"
   ]
  },
  {
   "cell_type": "markdown",
   "id": "b651ec72-b42e-4226-a317-3617cdc35f80",
   "metadata": {},
   "source": [
    "# 3、请求体"
   ]
  },
  {
   "cell_type": "markdown",
   "id": "aa3d975e-bce9-44be-8fa4-844ee9f38527",
   "metadata": {},
   "source": [
    "# 4、响应"
   ]
  },
  {
   "cell_type": "code",
   "execution_count": null,
   "id": "b29e32e5-c425-4c39-86b4-e6b6e71f05a8",
   "metadata": {},
   "outputs": [],
   "source": []
  }
 ],
 "metadata": {
  "kernelspec": {
   "display_name": "Python 3 (ipykernel)",
   "language": "python",
   "name": "python3"
  },
  "language_info": {
   "codemirror_mode": {
    "name": "ipython",
    "version": 3
   },
   "file_extension": ".py",
   "mimetype": "text/x-python",
   "name": "python",
   "nbconvert_exporter": "python",
   "pygments_lexer": "ipython3",
   "version": "3.12.3"
  }
 },
 "nbformat": 4,
 "nbformat_minor": 5
}
