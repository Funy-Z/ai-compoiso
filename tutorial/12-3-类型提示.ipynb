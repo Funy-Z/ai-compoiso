{
 "cells": [
  {
   "cell_type": "markdown",
   "id": "25de18e7-8308-4308-94e4-b9daf9e5c22f",
   "metadata": {},
   "source": [
    "# 03 类型提示"
   ]
  },
  {
   "cell_type": "markdown",
   "id": "b486fe01-7fbd-47ec-8487-7d030a7a908f",
   "metadata": {},
   "source": [
    "## 3.1 简单类型\n",
    "\n",
    "这些简单类型，在python3.5版本中已经支持，可以放心使用。\n",
    "\n",
    "1. str: 字符串\n",
    "2. int: 整数类型\n",
    "3. float: 浮点类型\n",
    "4. bool: 布尔类型, True | False\n",
    "5. bytes: 字节类型,文件读写、网络IO的场景。\n"
   ]
  },
  {
   "cell_type": "code",
   "execution_count": 19,
   "id": "07dc5436-4b9a-4de4-b90a-f08e49e788a9",
   "metadata": {},
   "outputs": [
    {
     "data": {
      "text/plain": [
       "str"
      ]
     },
     "execution_count": 19,
     "metadata": {},
     "output_type": "execute_result"
    }
   ],
   "source": [
    "name: str = \"xiaoming\"\n",
    "type(name)"
   ]
  },
  {
   "cell_type": "code",
   "execution_count": 22,
   "id": "8092d28e-7140-465c-ac4b-9cb76e5a9f61",
   "metadata": {},
   "outputs": [
    {
     "name": "stdout",
     "output_type": "stream",
     "text": [
      "<class 'int'>\n",
      "<class 'float'>\n",
      "<class 'bool'>\n"
     ]
    }
   ],
   "source": [
    "age: int = 18\n",
    "print(type(age))\n",
    "height: float = 2.26\n",
    "print(type(height))\n",
    "is_female: bool = False\n",
    "print(type(is_female))"
   ]
  },
  {
   "cell_type": "code",
   "execution_count": 26,
   "id": "f3247541-9e22-4300-859f-097689a52805",
   "metadata": {},
   "outputs": [
    {
     "name": "stdout",
     "output_type": "stream",
     "text": [
      "<class 'bytes'>\n"
     ]
    },
    {
     "data": {
      "text/plain": [
       "<Response [404]>"
      ]
     },
     "execution_count": 26,
     "metadata": {},
     "output_type": "execute_result"
    }
   ],
   "source": [
    "import requests\n",
    "\n",
    "with open('f.svg', \"rb\") as file:\n",
    "    image = file.read()\n",
    "    print(type(image))\n",
    "\n",
    "response = requests.post(\"http://example.com/upload\", files={\"image\": image})\n",
    "response"
   ]
  },
  {
   "cell_type": "markdown",
   "id": "acd1dea1-d03f-4681-b232-45f4441a6ac5",
   "metadata": {},
   "source": [
    "## 3.2 范型类型\n",
    "\n",
    "### (1)3.10+的版本\n",
    "\n",
    "1. list: 列表\n",
    "2. tuple: 元组\n",
    "3. set: 集合\n",
    "4. dict: 字典\n",
    "\n",
    "### (2) 3.8+的版本\n",
    "\n",
    "使用typing模块\n",
    "1. List：列表\n",
    "2. Tuple：元组\n",
    "3. Set：集合\n",
    "3. Dict：字典\n"
   ]
  },
  {
   "cell_type": "code",
   "execution_count": 29,
   "id": "67facaf9-caf1-44ff-84a9-462d995c42e5",
   "metadata": {},
   "outputs": [
    {
     "name": "stdout",
     "output_type": "stream",
     "text": [
      "Python 3.12.4\n"
     ]
    }
   ],
   "source": [
    "!python --version"
   ]
  },
  {
   "cell_type": "code",
   "execution_count": 41,
   "id": "6950572d-73da-46f8-943c-c0c70627ba24",
   "metadata": {},
   "outputs": [],
   "source": [
    "def test_type(list_arg:list[str], tuple_arg: tuple[int, bool], set_arg: set[int]):\n",
    "    print(type(list_arg), list_arg)\n",
    "    print(type(tuple_arg), tuple_arg)\n",
    "    print(type(set_arg), set_arg)\n",
    "\n",
    "test_type([\"xiaoming\"], tuple_arg=(44, False), set_arg=set([1,1,2,2]))\n",
    "\n",
    "def test_type_dict(dict_arg: dict[str, int]):\n",
    "    print(type(dict_arg), dict_arg)\n",
    "\n",
    "test_type_dict({\"age\": 18})"
   ]
  },
  {
   "cell_type": "markdown",
   "id": "2959322b-f64e-476b-970a-95546baa54de",
   "metadata": {},
   "source": [
    "## 3.3 联合类型和可选类型\n",
    "\n",
    "### (1)3.10+的版本\n",
    "\n",
    "1. | : 使用竖线定义联合类型, int | float\n",
    "2. 让参数可选：设置默认值\n",
    "\n",
    "### (2) 3.8+的版本\n",
    "\n",
    "使用typing模块\n",
    "\n",
    "1. Union: 定义联合类型, Union[int,float]\n",
    "2. Optional: 可选类型定义，注意：仍然需要设置默认值，否则无效。\n"
   ]
  },
  {
   "cell_type": "code",
   "execution_count": 45,
   "id": "81dcde10-e4d9-4d0b-a16e-7302bb1b2c36",
   "metadata": {},
   "outputs": [
    {
     "name": "stdout",
     "output_type": "stream",
     "text": [
      "name:xiaoming, height:None\n"
     ]
    }
   ],
   "source": [
    "def print_person_info(name:str, height: int | float = None):\n",
    "    print(f\"name:{name}, height:{height}\")\n",
    "\n",
    "print_person_info(\"xiaoming\")"
   ]
  },
  {
   "cell_type": "markdown",
   "id": "d8da90e0-bbae-4b68-ae82-7a37476a81c5",
   "metadata": {},
   "source": [
    "## 3.4 类作为类型\n",
    "\n",
    "类可以用来创建实例对象，可以作为类型使用。\n"
   ]
  },
  {
   "cell_type": "code",
   "execution_count": 67,
   "id": "a758e9f9-cd03-4b3b-b67a-2aabba08d144",
   "metadata": {},
   "outputs": [
    {
     "name": "stdout",
     "output_type": "stream",
     "text": [
      "name:xiaoming, height: 2.26, pet: Pet(type='小狗', age=2.5)\n"
     ]
    }
   ],
   "source": [
    "from dataclasses import dataclass\n",
    "\n",
    "@dataclass\n",
    "class Pet():\n",
    "    type: str = None\n",
    "    age: int | float = None\n",
    "\n",
    "@dataclass\n",
    "class Human():\n",
    "    name: str = None\n",
    "    height: int | float = None\n",
    "    pet: Pet = None\n",
    "\n",
    "def print_info(human: Human):\n",
    "    print(f\"name:{human.name}, height: {human.height}, pet: {human.pet}\")\n",
    "\n",
    "print_info(Human(name=\"xiaoming\", height=2.26, pet=Pet(type=\"小狗\", age=2.5)))\n"
   ]
  },
  {
   "cell_type": "markdown",
   "id": "ad832eec-b37b-4f4e-b132-e917c068bd6a",
   "metadata": {},
   "source": [
    "## 3.5 类型提示补充\n",
    "\n",
    "typing模块\n",
    "\n",
    "1. Annotated:为字段添加类型的同时添加说明或者补充其他任何的元信息(说明等其他内容)。这些元信息放在__metadata__当中。\n",
    "2. TypedDict: 定义字典结构\n"
   ]
  },
  {
   "cell_type": "code",
   "execution_count": 81,
   "id": "1c3fa30c-603b-4629-8f52-9a516f8f4858",
   "metadata": {},
   "outputs": [],
   "source": [
    "from dataclasses import dataclass\n",
    "from typing import Annotated, TypedDict\n",
    "\n",
    "X = Annotated[str, \"宠物类型\", \"XXXX03\"]\n",
    "\n",
    "class Pet(TypedDict):\n",
    "    type: X = None\n",
    "    age: int | float = None\n",
    "\n"
   ]
  },
  {
   "cell_type": "code",
   "execution_count": 86,
   "id": "5d898684-a14f-4ad1-beee-6448f95d9fb2",
   "metadata": {},
   "outputs": [
    {
     "data": {
      "text/plain": [
       "{'type': '小猫', 'age': 1.5, 'abc': 'XXX'}"
      ]
     },
     "execution_count": 86,
     "metadata": {},
     "output_type": "execute_result"
    }
   ],
   "source": [
    "pet: Pet = {\n",
    "    \"type\": \"小猫\",\n",
    "    \"age\": 1.5,\n",
    "    \"abc\": \"XXX\"\n",
    "}\n",
    "pet"
   ]
  },
  {
   "cell_type": "code",
   "execution_count": null,
   "id": "814d6eff-0886-4c69-8c8a-56853611bd6e",
   "metadata": {},
   "outputs": [],
   "source": []
  }
 ],
 "metadata": {
  "kernelspec": {
   "display_name": "Python 3 (ipykernel)",
   "language": "python",
   "name": "python3"
  },
  "language_info": {
   "codemirror_mode": {
    "name": "ipython",
    "version": 3
   },
   "file_extension": ".py",
   "mimetype": "text/x-python",
   "name": "python",
   "nbconvert_exporter": "python",
   "pygments_lexer": "ipython3",
   "version": "3.12.3"
  }
 },
 "nbformat": 4,
 "nbformat_minor": 5
}
